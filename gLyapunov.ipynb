{
 "cells": [
  {
   "cell_type": "code",
   "execution_count": 7,
   "id": "fe6dfc79",
   "metadata": {},
   "outputs": [],
   "source": [
    "import numpy as np\n",
    "import matplotlib.pyplot as plt\n",
    "from scipy.spatial import KDTree\n",
    "from scipy.integrate import odeint\n",
    "from mpl_toolkits.mplot3d import Axes3D\n",
    "from scipy.interpolate import interp1d\n",
    "import pandas as pd"
   ]
  },
  {
   "cell_type": "code",
   "execution_count": 8,
   "id": "9de76c63",
   "metadata": {},
   "outputs": [],
   "source": [
    "#Time that will be used to interpolate. One of the datasets () is begins 100kyr, so interpolation begins here.\n",
    "times = np.arange(101, 800, .1)\n",
    "\n",
    "def normalize_01(vector):\n",
    "    peak = np.max(vector - np.average(vector))\n",
    "    return (vector - np.average(vector)) / peak"
   ]
  },
  {
   "cell_type": "code",
   "execution_count": 9,
   "id": "9f27e130",
   "metadata": {},
   "outputs": [],
   "source": [
    "#Data 1: Lisiecki and Raymos\n",
    "#Delta18-O going back 800kyr\n",
    "with open('delta18O.txt', 'r') as file:\n",
    "    lr_text = file.read().splitlines()\n",
    "lr_text = [item.split(\"\\t\") for item in lr_text]\n",
    "lr_time = [float(item[0]) for item in lr_text]\n",
    "lr_delta18 = [float(item[1]) for item in lr_text]\n",
    "lr_delta18_func = interp1d(lr_time, lr_delta18)\n",
    "lr_delta18 = [lr_delta18_func(item) for item in times]\n",
    "lr_delta18 = normalize_01(lr_delta18)\n",
    "\n",
    "# Data 2: Laskar Insolation\n",
    "#Insolation going back 800kyr\n",
    "with open('insol5000copy.txt', 'r') as file:\n",
    "    text = file.read().splitlines()\n",
    "text = [item.split(\"    \") for item in text]\n",
    "laskar_times = [abs(float(item[1])) for item in text]\n",
    "laskar_insol = [float(item[2]) for item in text]\n",
    "laskar_times = laskar_times[::-1] #Flipping lists, abs, so they are they are in the same time when interpolating\n",
    "laskar_insol = laskar_insol[::-1]\n",
    "laskar_insol_func = interp1d(laskar_times, laskar_insol)\n",
    "laskar_insol = [laskar_insol_func(item) for item in times]\n",
    "laskar_insol = normalize_01(laskar_insol)\n",
    "\n",
    "#Data Set 3: DomeC_d18O\n",
    "#Delta18-O 100-800kyr\n",
    "domec = pd.read_csv(r\"DomeC_d18O.csv\")\n",
    "domec_kyr = [float(timeitem[1]) for timeitem in [item[0].split() for item in np.asarray(domec)]]\n",
    "domec = [float(timeitem[2]) for timeitem in [item[0].split() for item in np.asarray(domec)]]\n",
    "domec_func = interp1d(domec_kyr, domec)\n",
    "domec_int = [domec_func(item) for item in times]\n",
    "domec_int = normalize_01(domec_int)"
   ]
  },
  {
   "cell_type": "code",
   "execution_count": 10,
   "id": "c6dc88d3",
   "metadata": {},
   "outputs": [],
   "source": [
    "def add_dimensions(vector, d, tau):\n",
    "    #takes a time series (vector) and returns a matrix\n",
    "    #d is the total number of dimensions you want\n",
    "    N = len(vector)\n",
    "    matrix = np.zeros((N, d))\n",
    "    for i in range(0, d):\n",
    "        matrix[0:(N - i*tau), i] = vector[i*tau:N]\n",
    "        matrix[(N - i*tau):N, i] = vector[0:i*tau]\n",
    "    return matrix"
   ]
  },
  {
   "cell_type": "code",
   "execution_count": 44,
   "id": "b5a04616",
   "metadata": {},
   "outputs": [],
   "source": [
    "def compute_mle(vector, dimension=3, tau=2, k=25, move_perc=.2, start_perc=.25, plot=False):    \n",
    "    #move_perc = percent of data you want to search across\n",
    "    N = len(vector)\n",
    "    start = int(N * start_perc)\n",
    "    stop = int(N * move_perc)\n",
    "    recon = add_dimensions(vector.flatten(), dimension, 2)\n",
    "    tree = KDTree(recon) \n",
    "    dd, ii = tree.query(recon[start], k=k)\n",
    "    ii = ii[1:]\n",
    "    max_index_possible = N - stop\n",
    "    ii = [ii[j] for j in range(0, len(ii)) if ii[j] < max_index_possible]\n",
    "    kcut = len(ii)\n",
    "    \n",
    "    if plot: print(\"LEN: \", N, \" START INDEX: \", start, \" STOP INDEX: \", stop+start)\n",
    "    \n",
    "    taus = np.arange(0, stop, 1)\n",
    "    overtaus = np.zeros((len(taus)))\n",
    "    dists = np.zeros((kcut, stop))\n",
    "    scdists = np.zeros((kcut, stop))\n",
    "    ndists = np.zeros((kcut, stop))\n",
    "    for tau in taus:\n",
    "        for i in range(0, kcut):\n",
    "            ndists[i, tau] = np.linalg.norm(recon[start+tau] - recon[ii[i]+tau])\n",
    "\n",
    "    if plot:\n",
    "        plt.plot(np.average(ndists, axis=0))\n",
    "        plt.show()\n",
    "        \n",
    "    mle = np.average(np.log2(abs(np.average(ndists, axis=0))))\n",
    "    return mle\n",
    "\n",
    "def multi_mle(vector, numpts=15, dimension=3, tau=2, k=25, move_perc=.2, start_perc=.25):\n",
    "    avgmle = 0\n",
    "    eps = np.random.rand(numpts) / 20\n",
    "    eps = [ep*-1 if np.random.rand(1) < .5 else ep for ep in eps ]\n",
    "    print(\"EPSILONS: \", eps)\n",
    "    for i in range(0, numpts):\n",
    "        avgmle += compute_mle(vector, dimension=dimension, tau=tau, k=k, move_perc=move_perc, start_perc=start_perc+eps[i])\n",
    "    return avgmle / numpts"
   ]
  },
  {
   "cell_type": "code",
   "execution_count": 45,
   "id": "78cea011",
   "metadata": {},
   "outputs": [
    {
     "name": "stdout",
     "output_type": "stream",
     "text": [
      "LEN:  6990  START INDEX:  349  STOP INDEX:  390\n"
     ]
    },
    {
     "data": {
      "image/png": "[encoded data removed]",
      "text/plain": [
       "<Figure size 432x288 with 1 Axes>"
      ]
     },
     "metadata": {
      "needs_background": "light"
     },
     "output_type": "display_data"
    },
    {
     "data": {
      "text/plain": [
       "-3.4197770523850655"
      ]
     },
     "execution_count": 45,
     "metadata": {},
     "output_type": "execute_result"
    }
   ],
   "source": [
    "# mle1 = compute_mle(lr_delta18, dimension=3, move_perc=.012, start_perc=.05, plot=True)\n",
    "# mle1 = compute_mle(laskar_insol, dimension=4, move_perc=.025, start_perc=.05, plot=True)\n",
    "mle1 = compute_mle(domec_int, dimension=4, move_perc=.006, start_perc=.05, plot=True)\n",
    "mle1"
   ]
  },
  {
   "cell_type": "code",
   "execution_count": null,
   "id": "8b3b48f5",
   "metadata": {},
   "outputs": [],
   "source": [
    "#Insolation: -1.97\n",
    "#LR:         -2.67\n",
    "#Dome C:     -3.42"
   ]
  }
 ],
 "metadata": {
  "kernelspec": {
   "display_name": "Python 3",
   "language": "python",
   "name": "python3"
  },
  "language_info": {
   "codemirror_mode": {
    "name": "ipython",
    "version": 3
   },
   "file_extension": ".py",
   "mimetype": "text/x-python",
   "name": "python",
   "nbconvert_exporter": "python",
   "pygments_lexer": "ipython3",
   "version": "3.8.8"
  }
 },
 "nbformat": 4,
 "nbformat_minor": 5
}
